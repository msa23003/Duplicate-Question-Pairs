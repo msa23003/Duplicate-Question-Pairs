{
 "cells": [
  {
   "cell_type": "code",
   "execution_count": 1,
   "id": "9ee63d6c-0813-4f17-8be4-277ec0b7e7f5",
   "metadata": {},
   "outputs": [
    {
     "name": "stdout",
     "output_type": "stream",
     "text": [
      "Requirement already satisfied: distance in c:\\users\\dell\\anaconda3\\lib\\site-packages (0.1.3)\n"
     ]
    }
   ],
   "source": [
    "!pip install distance"
   ]
  },
  {
   "cell_type": "code",
   "execution_count": 3,
   "id": "96703528-f742-41b1-9a15-34896d243c16",
   "metadata": {},
   "outputs": [
    {
     "name": "stdout",
     "output_type": "stream",
     "text": [
      "Writing app.py\n"
     ]
    }
   ],
   "source": [
    "%%writefile app.py\n",
    "import streamlit as st\n",
    "import helper\n",
    "import pickle\n",
    "\n",
    "model = pickle.load(open('model.pkl','rb'))\n",
    "\n",
    "st.header('Duplicate Question Pairs')\n",
    "\n",
    "q1 = st.text_input('Enter question 1')\n",
    "q2 = st.text_input('Enter question 2')\n",
    "\n",
    "if st.button('Find'):\n",
    "    query = helper.query_point_creator(q1,q2)\n",
    "    result = model.predict(query)[0]\n",
    "\n",
    "    if result:\n",
    "        st.header('Duplicate')\n",
    "    else:\n",
    "        st.header('Not Duplicate')\n",
    "\n"
   ]
  },
  {
   "cell_type": "code",
   "execution_count": null,
   "id": "fbf98c2d-a196-4043-aadf-fc232ea28316",
   "metadata": {},
   "outputs": [],
   "source": [
    "!streamlit run app.py"
   ]
  },
  {
   "cell_type": "code",
   "execution_count": null,
   "id": "9606ce3e-a28f-403d-880d-6806707ff903",
   "metadata": {},
   "outputs": [],
   "source": []
  }
 ],
 "metadata": {
  "kernelspec": {
   "display_name": "Python 3 (ipykernel)",
   "language": "python",
   "name": "python3"
  },
  "language_info": {
   "codemirror_mode": {
    "name": "ipython",
    "version": 3
   },
   "file_extension": ".py",
   "mimetype": "text/x-python",
   "name": "python",
   "nbconvert_exporter": "python",
   "pygments_lexer": "ipython3",
   "version": "3.11.7"
  }
 },
 "nbformat": 4,
 "nbformat_minor": 5
}
