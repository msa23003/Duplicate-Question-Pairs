{
 "cells": [
  {
   "cell_type": "markdown",
   "id": "54cd80d8-8f43-479d-9b23-4708a80b13df",
   "metadata": {},
   "source": [
    "Feature Engineering(to increase the accuracy)\n",
    "1. q1 len = character length of question1\n",
    "2. q2 len = character length of question2\n",
    "3. q1 words = number of words in question1\n",
    "4. q2 words = number of words in question2\n",
    "5. words common = number of common unique words\n",
    "6. words total = total number of words in question1 + total number of words in question2\n",
    "7. word share = (word coomon/word total)\n",
    "\n",
    "we form these 7 coloumns and add 3000 bow of q1 and that of q2"
   ]
  },
  {
   "cell_type": "code",
   "execution_count": 1,
   "id": "4efc0ba6-1176-482c-b81a-890cc1ad50f1",
   "metadata": {},
   "outputs": [],
   "source": [
    "import numpy as np\n",
    "import pandas as pd\n",
    "import seaborn as sns\n",
    "import matplotlib.pyplot as plt"
   ]
  },
  {
   "cell_type": "code",
   "execution_count": 3,
   "id": "3a9c1ad4-d024-4fb2-9f98-a2d64ad18765",
   "metadata": {},
   "outputs": [],
   "source": [
    "df= pd.read_csv('train.csv')"
   ]
  },
  {
   "cell_type": "code",
   "execution_count": 5,
   "id": "2403f483-b558-4907-865d-e7ab372f03ae",
   "metadata": {},
   "outputs": [
    {
     "data": {
      "text/html": [
       "<div>\n",
       "<style scoped>\n",
       "    .dataframe tbody tr th:only-of-type {\n",
       "        vertical-align: middle;\n",
       "    }\n",
       "\n",
       "    .dataframe tbody tr th {\n",
       "        vertical-align: top;\n",
       "    }\n",
       "\n",
       "    .dataframe thead th {\n",
       "        text-align: right;\n",
       "    }\n",
       "</style>\n",
       "<table border=\"1\" class=\"dataframe\">\n",
       "  <thead>\n",
       "    <tr style=\"text-align: right;\">\n",
       "      <th></th>\n",
       "      <th>id</th>\n",
       "      <th>qid1</th>\n",
       "      <th>qid2</th>\n",
       "      <th>question1</th>\n",
       "      <th>question2</th>\n",
       "      <th>is_duplicate</th>\n",
       "    </tr>\n",
       "  </thead>\n",
       "  <tbody>\n",
       "    <tr>\n",
       "      <th>401939</th>\n",
       "      <td>401939</td>\n",
       "      <td>535386</td>\n",
       "      <td>535387</td>\n",
       "      <td>What's the best alternative to SAP?</td>\n",
       "      <td>What are the best alternative to SAP?</td>\n",
       "      <td>1</td>\n",
       "    </tr>\n",
       "    <tr>\n",
       "      <th>300530</th>\n",
       "      <td>300530</td>\n",
       "      <td>46956</td>\n",
       "      <td>33028</td>\n",
       "      <td>Which are the best SEO companies in Delhi?</td>\n",
       "      <td>What is the best SEO company in Delhi, India?</td>\n",
       "      <td>1</td>\n",
       "    </tr>\n",
       "    <tr>\n",
       "      <th>107283</th>\n",
       "      <td>107283</td>\n",
       "      <td>176538</td>\n",
       "      <td>176539</td>\n",
       "      <td>Was Donald Trump truthful when he said \"No, I ...</td>\n",
       "      <td>Was Donald Trump telling the truth about not k...</td>\n",
       "      <td>1</td>\n",
       "    </tr>\n",
       "    <tr>\n",
       "      <th>168229</th>\n",
       "      <td>168229</td>\n",
       "      <td>260643</td>\n",
       "      <td>260644</td>\n",
       "      <td>What are some examples of poor customer service?</td>\n",
       "      <td>What is bad customer service? What are example...</td>\n",
       "      <td>1</td>\n",
       "    </tr>\n",
       "    <tr>\n",
       "      <th>92747</th>\n",
       "      <td>92747</td>\n",
       "      <td>155212</td>\n",
       "      <td>155213</td>\n",
       "      <td>Is there any chance of decrease in the cut off...</td>\n",
       "      <td>I have gotten a 75% in both class 10 and 12. W...</td>\n",
       "      <td>0</td>\n",
       "    </tr>\n",
       "  </tbody>\n",
       "</table>\n",
       "</div>"
      ],
      "text/plain": [
       "            id    qid1    qid2  \\\n",
       "401939  401939  535386  535387   \n",
       "300530  300530   46956   33028   \n",
       "107283  107283  176538  176539   \n",
       "168229  168229  260643  260644   \n",
       "92747    92747  155212  155213   \n",
       "\n",
       "                                                question1  \\\n",
       "401939                What's the best alternative to SAP?   \n",
       "300530         Which are the best SEO companies in Delhi?   \n",
       "107283  Was Donald Trump truthful when he said \"No, I ...   \n",
       "168229   What are some examples of poor customer service?   \n",
       "92747   Is there any chance of decrease in the cut off...   \n",
       "\n",
       "                                                question2  is_duplicate  \n",
       "401939              What are the best alternative to SAP?             1  \n",
       "300530      What is the best SEO company in Delhi, India?             1  \n",
       "107283  Was Donald Trump telling the truth about not k...             1  \n",
       "168229  What is bad customer service? What are example...             1  \n",
       "92747   I have gotten a 75% in both class 10 and 12. W...             0  "
      ]
     },
     "execution_count": 5,
     "metadata": {},
     "output_type": "execute_result"
    }
   ],
   "source": [
    "df.sample(5)"
   ]
  },
  {
   "cell_type": "code",
   "execution_count": 7,
   "id": "39ff6f30-64e0-4287-8e4d-cbe5f930f9f8",
   "metadata": {},
   "outputs": [],
   "source": [
    "new_df = df.sample(30000, random_state=2)"
   ]
  },
  {
   "cell_type": "code",
   "execution_count": 9,
   "id": "30da73de-9ea0-4452-93fc-1998d5b383c9",
   "metadata": {},
   "outputs": [
    {
     "data": {
      "text/plain": [
       "id              0\n",
       "qid1            0\n",
       "qid2            0\n",
       "question1       0\n",
       "question2       0\n",
       "is_duplicate    0\n",
       "dtype: int64"
      ]
     },
     "execution_count": 9,
     "metadata": {},
     "output_type": "execute_result"
    }
   ],
   "source": [
    "new_df.isnull().sum()"
   ]
  },
  {
   "cell_type": "code",
   "execution_count": 11,
   "id": "80e9e657-474a-450d-b6b4-5b497b1e63bd",
   "metadata": {},
   "outputs": [
    {
     "data": {
      "text/html": [
       "<div>\n",
       "<style scoped>\n",
       "    .dataframe tbody tr th:only-of-type {\n",
       "        vertical-align: middle;\n",
       "    }\n",
       "\n",
       "    .dataframe tbody tr th {\n",
       "        vertical-align: top;\n",
       "    }\n",
       "\n",
       "    .dataframe thead th {\n",
       "        text-align: right;\n",
       "    }\n",
       "</style>\n",
       "<table border=\"1\" class=\"dataframe\">\n",
       "  <thead>\n",
       "    <tr style=\"text-align: right;\">\n",
       "      <th></th>\n",
       "      <th>id</th>\n",
       "      <th>qid1</th>\n",
       "      <th>qid2</th>\n",
       "      <th>question1</th>\n",
       "      <th>question2</th>\n",
       "      <th>is_duplicate</th>\n",
       "    </tr>\n",
       "  </thead>\n",
       "  <tbody>\n",
       "    <tr>\n",
       "      <th>306427</th>\n",
       "      <td>306427</td>\n",
       "      <td>87103</td>\n",
       "      <td>247799</td>\n",
       "      <td>What does Pattern do?</td>\n",
       "      <td>What is Z-Pattern?</td>\n",
       "      <td>0</td>\n",
       "    </tr>\n",
       "    <tr>\n",
       "      <th>128427</th>\n",
       "      <td>128427</td>\n",
       "      <td>162936</td>\n",
       "      <td>206542</td>\n",
       "      <td>How are the different types of nerve cells for...</td>\n",
       "      <td>What are different types of cells?</td>\n",
       "      <td>0</td>\n",
       "    </tr>\n",
       "    <tr>\n",
       "      <th>370363</th>\n",
       "      <td>370363</td>\n",
       "      <td>49275</td>\n",
       "      <td>500922</td>\n",
       "      <td>What is the best optical illusion?</td>\n",
       "      <td>How does this optical illusion work?</td>\n",
       "      <td>0</td>\n",
       "    </tr>\n",
       "    <tr>\n",
       "      <th>143763</th>\n",
       "      <td>143763</td>\n",
       "      <td>73669</td>\n",
       "      <td>227700</td>\n",
       "      <td>What's the best home remedy for ear mites in c...</td>\n",
       "      <td>What is the best home remedy for a toddler vom...</td>\n",
       "      <td>0</td>\n",
       "    </tr>\n",
       "    <tr>\n",
       "      <th>172995</th>\n",
       "      <td>172995</td>\n",
       "      <td>266979</td>\n",
       "      <td>266980</td>\n",
       "      <td>What is the influence of Christianity in the I...</td>\n",
       "      <td>What is the influence of Islam in the Indian i...</td>\n",
       "      <td>0</td>\n",
       "    </tr>\n",
       "  </tbody>\n",
       "</table>\n",
       "</div>"
      ],
      "text/plain": [
       "            id    qid1    qid2  \\\n",
       "306427  306427   87103  247799   \n",
       "128427  128427  162936  206542   \n",
       "370363  370363   49275  500922   \n",
       "143763  143763   73669  227700   \n",
       "172995  172995  266979  266980   \n",
       "\n",
       "                                                question1  \\\n",
       "306427                              What does Pattern do?   \n",
       "128427  How are the different types of nerve cells for...   \n",
       "370363                 What is the best optical illusion?   \n",
       "143763  What's the best home remedy for ear mites in c...   \n",
       "172995  What is the influence of Christianity in the I...   \n",
       "\n",
       "                                                question2  is_duplicate  \n",
       "306427                                 What is Z-Pattern?             0  \n",
       "128427                 What are different types of cells?             0  \n",
       "370363               How does this optical illusion work?             0  \n",
       "143763  What is the best home remedy for a toddler vom...             0  \n",
       "172995  What is the influence of Islam in the Indian i...             0  "
      ]
     },
     "execution_count": 11,
     "metadata": {},
     "output_type": "execute_result"
    }
   ],
   "source": [
    "new_df.sample(5)"
   ]
  },
  {
   "cell_type": "code",
   "execution_count": 13,
   "id": "5e5dbe92-4430-4867-8d8a-c68fd002a888",
   "metadata": {},
   "outputs": [
    {
     "data": {
      "text/plain": [
       "id              0\n",
       "qid1            0\n",
       "qid2            0\n",
       "question1       0\n",
       "question2       0\n",
       "is_duplicate    0\n",
       "dtype: int64"
      ]
     },
     "execution_count": 13,
     "metadata": {},
     "output_type": "execute_result"
    }
   ],
   "source": [
    "new_df.isnull().sum()"
   ]
  },
  {
   "cell_type": "code",
   "execution_count": 15,
   "id": "3462cbd8-fffd-4cf9-891e-07fd27ed66b4",
   "metadata": {},
   "outputs": [
    {
     "data": {
      "text/plain": [
       "0"
      ]
     },
     "execution_count": 15,
     "metadata": {},
     "output_type": "execute_result"
    }
   ],
   "source": [
    "new_df.duplicated().sum()"
   ]
  },
  {
   "cell_type": "code",
   "execution_count": 17,
   "id": "4728be0a-3639-4f45-b0eb-f32e0544cfbe",
   "metadata": {},
   "outputs": [
    {
     "name": "stdout",
     "output_type": "stream",
     "text": [
      "is_duplicate\n",
      "0    19013\n",
      "1    10987\n",
      "Name: count, dtype: int64\n",
      "is_duplicate\n",
      "0    63.376667\n",
      "1    36.623333\n",
      "Name: count, dtype: float64\n"
     ]
    },
    {
     "data": {
      "text/plain": [
       "<Axes: xlabel='is_duplicate'>"
      ]
     },
     "execution_count": 17,
     "metadata": {},
     "output_type": "execute_result"
    },
    {
     "data": {
      "image/png": "[encoded data removed]",
      "text/plain": [
       "<Figure size 640x480 with 1 Axes>"
      ]
     },
     "metadata": {},
     "output_type": "display_data"
    }
   ],
   "source": [
    "# Distribution of duplicate and non-duplicate questions\n",
    "\n",
    "print(new_df['is_duplicate'].value_counts())\n",
    "print((new_df['is_duplicate'].value_counts()/new_df['is_duplicate'].count())*100) #in percentage value\n",
    "new_df['is_duplicate'].value_counts().plot(kind='bar',color='red')"
   ]
  },
  {
   "cell_type": "code",
   "execution_count": 19,
   "id": "377e0ef9-d3da-43f8-8ac6-98c71d966bf7",
   "metadata": {},
   "outputs": [
    {
     "name": "stdout",
     "output_type": "stream",
     "text": [
      "Number of unique questions in the dataset: 55299\n",
      "Number of questions that are being repeated in the dataset: 3480\n"
     ]
    }
   ],
   "source": [
    "#repeated questions\n",
    "qid= pd.Series(new_df['qid1'].tolist() + new_df['qid2'].tolist())\n",
    "print('Number of unique questions in the dataset:',np.unique(qid).shape[0])\n",
    "x=qid.value_counts()>1\n",
    "print('Number of questions that are being repeated in the dataset:',x[x].shape[0])"
   ]
  },
  {
   "cell_type": "code",
   "execution_count": 21,
   "id": "60bdaa0e-b49e-4bac-a3c9-eac3d156bd20",
   "metadata": {},
   "outputs": [
    {
     "data": {
      "image/png": "[encoded data removed]",
      "text/plain": [
       "<Figure size 640x480 with 1 Axes>"
      ]
     },
     "metadata": {},
     "output_type": "display_data"
    }
   ],
   "source": [
    "#plot(histogram) of repeated questions\n",
    "plt.hist(qid.value_counts().values,bins=160, color='red')\n",
    "plt.yscale('log')\n",
    "plt.show()"
   ]
  },
  {
   "cell_type": "code",
   "execution_count": 23,
   "id": "645bc429-6364-4978-9fd0-4f8589d3e0bb",
   "metadata": {},
   "outputs": [],
   "source": [
    "#Feature Engineering\n",
    "new_df['q1_len'] = new_df['question1'].str.len()\n",
    "new_df['q2_len'] = new_df['question2'].str.len()"
   ]
  },
  {
   "cell_type": "code",
   "execution_count": 25,
   "id": "07525b22-7227-440b-8493-7ed4952f9075",
   "metadata": {},
   "outputs": [
    {
     "data": {
      "text/html": [
       "<div>\n",
       "<style scoped>\n",
       "    .dataframe tbody tr th:only-of-type {\n",
       "        vertical-align: middle;\n",
       "    }\n",
       "\n",
       "    .dataframe tbody tr th {\n",
       "        vertical-align: top;\n",
       "    }\n",
       "\n",
       "    .dataframe thead th {\n",
       "        text-align: right;\n",
       "    }\n",
       "</style>\n",
       "<table border=\"1\" class=\"dataframe\">\n",
       "  <thead>\n",
       "    <tr style=\"text-align: right;\">\n",
       "      <th></th>\n",
       "      <th>id</th>\n",
       "      <th>qid1</th>\n",
       "      <th>qid2</th>\n",
       "      <th>question1</th>\n",
       "      <th>question2</th>\n",
       "      <th>is_duplicate</th>\n",
       "      <th>q1_len</th>\n",
       "      <th>q2_len</th>\n",
       "    </tr>\n",
       "  </thead>\n",
       "  <tbody>\n",
       "    <tr>\n",
       "      <th>133195</th>\n",
       "      <td>133195</td>\n",
       "      <td>213114</td>\n",
       "      <td>213115</td>\n",
       "      <td>Is Donald Trump a marketing genius?</td>\n",
       "      <td>Is Donald Trump a business genius?</td>\n",
       "      <td>1</td>\n",
       "      <td>35</td>\n",
       "      <td>34</td>\n",
       "    </tr>\n",
       "    <tr>\n",
       "      <th>259324</th>\n",
       "      <td>259324</td>\n",
       "      <td>244071</td>\n",
       "      <td>186335</td>\n",
       "      <td>What is the difference between true love and a...</td>\n",
       "      <td>What is the difference between attachment and ...</td>\n",
       "      <td>1</td>\n",
       "      <td>56</td>\n",
       "      <td>51</td>\n",
       "    </tr>\n",
       "    <tr>\n",
       "      <th>553</th>\n",
       "      <td>553</td>\n",
       "      <td>1104</td>\n",
       "      <td>1105</td>\n",
       "      <td>What are the best daily life hacks one can use...</td>\n",
       "      <td>What are the hacks in daily life?</td>\n",
       "      <td>1</td>\n",
       "      <td>69</td>\n",
       "      <td>33</td>\n",
       "    </tr>\n",
       "    <tr>\n",
       "      <th>329748</th>\n",
       "      <td>329748</td>\n",
       "      <td>69883</td>\n",
       "      <td>77372</td>\n",
       "      <td>Why is life so unfair for some people?</td>\n",
       "      <td>Why is life so unfair?</td>\n",
       "      <td>1</td>\n",
       "      <td>38</td>\n",
       "      <td>22</td>\n",
       "    </tr>\n",
       "    <tr>\n",
       "      <th>13386</th>\n",
       "      <td>13386</td>\n",
       "      <td>25711</td>\n",
       "      <td>25712</td>\n",
       "      <td>How do I get to contact a hacker?</td>\n",
       "      <td>How do I contact a verified hacker?</td>\n",
       "      <td>1</td>\n",
       "      <td>33</td>\n",
       "      <td>35</td>\n",
       "    </tr>\n",
       "  </tbody>\n",
       "</table>\n",
       "</div>"
      ],
      "text/plain": [
       "            id    qid1    qid2  \\\n",
       "133195  133195  213114  213115   \n",
       "259324  259324  244071  186335   \n",
       "553        553    1104    1105   \n",
       "329748  329748   69883   77372   \n",
       "13386    13386   25711   25712   \n",
       "\n",
       "                                                question1  \\\n",
       "133195                Is Donald Trump a marketing genius?   \n",
       "259324  What is the difference between true love and a...   \n",
       "553     What are the best daily life hacks one can use...   \n",
       "329748             Why is life so unfair for some people?   \n",
       "13386                   How do I get to contact a hacker?   \n",
       "\n",
       "                                                question2  is_duplicate  \\\n",
       "133195                 Is Donald Trump a business genius?             1   \n",
       "259324  What is the difference between attachment and ...             1   \n",
       "553                     What are the hacks in daily life?             1   \n",
       "329748                             Why is life so unfair?             1   \n",
       "13386                 How do I contact a verified hacker?             1   \n",
       "\n",
       "        q1_len  q2_len  \n",
       "133195      35      34  \n",
       "259324      56      51  \n",
       "553         69      33  \n",
       "329748      38      22  \n",
       "13386       33      35  "
      ]
     },
     "execution_count": 25,
     "metadata": {},
     "output_type": "execute_result"
    }
   ],
   "source": [
    "new_df.sample(5)"
   ]
  },
  {
   "cell_type": "code",
   "execution_count": 27,
   "id": "a4cb2099-97fe-42c3-920a-579bd138d9b0",
   "metadata": {},
   "outputs": [
    {
     "data": {
      "text/html": [
       "<div>\n",
       "<style scoped>\n",
       "    .dataframe tbody tr th:only-of-type {\n",
       "        vertical-align: middle;\n",
       "    }\n",
       "\n",
       "    .dataframe tbody tr th {\n",
       "        vertical-align: top;\n",
       "    }\n",
       "\n",
       "    .dataframe thead th {\n",
       "        text-align: right;\n",
       "    }\n",
       "</style>\n",
       "<table border=\"1\" class=\"dataframe\">\n",
       "  <thead>\n",
       "    <tr style=\"text-align: right;\">\n",
       "      <th></th>\n",
       "      <th>id</th>\n",
       "      <th>qid1</th>\n",
       "      <th>qid2</th>\n",
       "      <th>question1</th>\n",
       "      <th>question2</th>\n",
       "      <th>is_duplicate</th>\n",
       "      <th>q1_len</th>\n",
       "      <th>q2_len</th>\n",
       "      <th>q1_num_words</th>\n",
       "      <th>q2_num_words</th>\n",
       "    </tr>\n",
       "  </thead>\n",
       "  <tbody>\n",
       "    <tr>\n",
       "      <th>130826</th>\n",
       "      <td>130826</td>\n",
       "      <td>209877</td>\n",
       "      <td>209878</td>\n",
       "      <td>How can you find out the exact day you posted ...</td>\n",
       "      <td>Haven't been able to post a picture on my Inst...</td>\n",
       "      <td>0</td>\n",
       "      <td>69</td>\n",
       "      <td>134</td>\n",
       "      <td>13</td>\n",
       "      <td>28</td>\n",
       "    </tr>\n",
       "    <tr>\n",
       "      <th>183649</th>\n",
       "      <td>183649</td>\n",
       "      <td>5757</td>\n",
       "      <td>60106</td>\n",
       "      <td>Is it possible to gain height after 20?</td>\n",
       "      <td>Will swimming increase height after 20 years o...</td>\n",
       "      <td>1</td>\n",
       "      <td>39</td>\n",
       "      <td>52</td>\n",
       "      <td>8</td>\n",
       "      <td>9</td>\n",
       "    </tr>\n",
       "    <tr>\n",
       "      <th>4653</th>\n",
       "      <td>4653</td>\n",
       "      <td>9191</td>\n",
       "      <td>9192</td>\n",
       "      <td>Where can I get best fire protection services ...</td>\n",
       "      <td>Where can I get emergency fire protection serv...</td>\n",
       "      <td>1</td>\n",
       "      <td>56</td>\n",
       "      <td>60</td>\n",
       "      <td>10</td>\n",
       "      <td>10</td>\n",
       "    </tr>\n",
       "    <tr>\n",
       "      <th>86753</th>\n",
       "      <td>86753</td>\n",
       "      <td>146251</td>\n",
       "      <td>146252</td>\n",
       "      <td>Which two modernist writers are most fit for c...</td>\n",
       "      <td>Who was the most copied writer ever?</td>\n",
       "      <td>0</td>\n",
       "      <td>56</td>\n",
       "      <td>36</td>\n",
       "      <td>9</td>\n",
       "      <td>7</td>\n",
       "    </tr>\n",
       "    <tr>\n",
       "      <th>107831</th>\n",
       "      <td>107831</td>\n",
       "      <td>177311</td>\n",
       "      <td>177312</td>\n",
       "      <td>What do vegetarians think about non-vegetarians?</td>\n",
       "      <td>What do vegans think about non vegetarians?</td>\n",
       "      <td>1</td>\n",
       "      <td>48</td>\n",
       "      <td>43</td>\n",
       "      <td>6</td>\n",
       "      <td>7</td>\n",
       "    </tr>\n",
       "  </tbody>\n",
       "</table>\n",
       "</div>"
      ],
      "text/plain": [
       "            id    qid1    qid2  \\\n",
       "130826  130826  209877  209878   \n",
       "183649  183649    5757   60106   \n",
       "4653      4653    9191    9192   \n",
       "86753    86753  146251  146252   \n",
       "107831  107831  177311  177312   \n",
       "\n",
       "                                                question1  \\\n",
       "130826  How can you find out the exact day you posted ...   \n",
       "183649            Is it possible to gain height after 20?   \n",
       "4653    Where can I get best fire protection services ...   \n",
       "86753   Which two modernist writers are most fit for c...   \n",
       "107831   What do vegetarians think about non-vegetarians?   \n",
       "\n",
       "                                                question2  is_duplicate  \\\n",
       "130826  Haven't been able to post a picture on my Inst...             0   \n",
       "183649  Will swimming increase height after 20 years o...             1   \n",
       "4653    Where can I get emergency fire protection serv...             1   \n",
       "86753                Who was the most copied writer ever?             0   \n",
       "107831        What do vegans think about non vegetarians?             1   \n",
       "\n",
       "        q1_len  q2_len  q1_num_words  q2_num_words  \n",
       "130826      69     134            13            28  \n",
       "183649      39      52             8             9  \n",
       "4653        56      60            10            10  \n",
       "86753       56      36             9             7  \n",
       "107831      48      43             6             7  "
      ]
     },
     "execution_count": 27,
     "metadata": {},
     "output_type": "execute_result"
    }
   ],
   "source": [
    "new_df['q1_num_words'] = new_df['question1'].apply(lambda row: len(row.split(\" \")))\n",
    "new_df['q2_num_words'] = new_df['question2'].apply(lambda row: len(row.split(\" \")))\n",
    "new_df.sample(5)"
   ]
  },
  {
   "cell_type": "code",
   "execution_count": 29,
   "id": "a8d36b4e-b35e-4e8d-b881-4b754aec2de4",
   "metadata": {},
   "outputs": [],
   "source": [
    "# get common words\n",
    "def common_words(row): #pura row pass kiya\n",
    "    w1 = set(map(lambda word: word.lower().strip(), row['question1'].split(\" \"))) #ques1 k sare words\n",
    "    w2 = set(map(lambda word: word.lower().strip(), row['question2'].split(\" \"))) #quest2 k sare words\n",
    "    return len(w1 & w2) #intersection among the two"
   ]
  },
  {
   "cell_type": "code",
   "execution_count": 31,
   "id": "287662e0-df40-49e5-aab5-e0e80c841a4f",
   "metadata": {},
   "outputs": [
    {
     "data": {
      "text/html": [
       "<div>\n",
       "<style scoped>\n",
       "    .dataframe tbody tr th:only-of-type {\n",
       "        vertical-align: middle;\n",
       "    }\n",
       "\n",
       "    .dataframe tbody tr th {\n",
       "        vertical-align: top;\n",
       "    }\n",
       "\n",
       "    .dataframe thead th {\n",
       "        text-align: right;\n",
       "    }\n",
       "</style>\n",
       "<table border=\"1\" class=\"dataframe\">\n",
       "  <thead>\n",
       "    <tr style=\"text-align: right;\">\n",
       "      <th></th>\n",
       "      <th>id</th>\n",
       "      <th>qid1</th>\n",
       "      <th>qid2</th>\n",
       "      <th>question1</th>\n",
       "      <th>question2</th>\n",
       "      <th>is_duplicate</th>\n",
       "      <th>q1_len</th>\n",
       "      <th>q2_len</th>\n",
       "      <th>q1_num_words</th>\n",
       "      <th>q2_num_words</th>\n",
       "      <th>word_common</th>\n",
       "    </tr>\n",
       "  </thead>\n",
       "  <tbody>\n",
       "    <tr>\n",
       "      <th>59730</th>\n",
       "      <td>59730</td>\n",
       "      <td>104579</td>\n",
       "      <td>47042</td>\n",
       "      <td>What is the best Android tablet apps?</td>\n",
       "      <td>What is the best Android tablet browser?</td>\n",
       "      <td>0</td>\n",
       "      <td>37</td>\n",
       "      <td>40</td>\n",
       "      <td>7</td>\n",
       "      <td>7</td>\n",
       "      <td>6</td>\n",
       "    </tr>\n",
       "    <tr>\n",
       "      <th>217595</th>\n",
       "      <td>217595</td>\n",
       "      <td>323996</td>\n",
       "      <td>323997</td>\n",
       "      <td>What are your choices for the best personal de...</td>\n",
       "      <td>What are the best personality development books?</td>\n",
       "      <td>0</td>\n",
       "      <td>62</td>\n",
       "      <td>48</td>\n",
       "      <td>10</td>\n",
       "      <td>7</td>\n",
       "      <td>6</td>\n",
       "    </tr>\n",
       "    <tr>\n",
       "      <th>300</th>\n",
       "      <td>300</td>\n",
       "      <td>600</td>\n",
       "      <td>601</td>\n",
       "      <td>How should I start small business effectively?</td>\n",
       "      <td>How should I start a small business in constru...</td>\n",
       "      <td>0</td>\n",
       "      <td>46</td>\n",
       "      <td>52</td>\n",
       "      <td>7</td>\n",
       "      <td>9</td>\n",
       "      <td>6</td>\n",
       "    </tr>\n",
       "    <tr>\n",
       "      <th>313015</th>\n",
       "      <td>313015</td>\n",
       "      <td>437555</td>\n",
       "      <td>437556</td>\n",
       "      <td>What are the best headhunters in Mexico?</td>\n",
       "      <td>Who are the best headhunters in Mexico?</td>\n",
       "      <td>1</td>\n",
       "      <td>40</td>\n",
       "      <td>39</td>\n",
       "      <td>7</td>\n",
       "      <td>7</td>\n",
       "      <td>6</td>\n",
       "    </tr>\n",
       "    <tr>\n",
       "      <th>91635</th>\n",
       "      <td>91635</td>\n",
       "      <td>153519</td>\n",
       "      <td>153520</td>\n",
       "      <td>How many keywords are there in the CFML progra...</td>\n",
       "      <td>How many keywords are there in ArcView 3.x Pro...</td>\n",
       "      <td>0</td>\n",
       "      <td>83</td>\n",
       "      <td>86</td>\n",
       "      <td>14</td>\n",
       "      <td>14</td>\n",
       "      <td>11</td>\n",
       "    </tr>\n",
       "  </tbody>\n",
       "</table>\n",
       "</div>"
      ],
      "text/plain": [
       "            id    qid1    qid2  \\\n",
       "59730    59730  104579   47042   \n",
       "217595  217595  323996  323997   \n",
       "300        300     600     601   \n",
       "313015  313015  437555  437556   \n",
       "91635    91635  153519  153520   \n",
       "\n",
       "                                                question1  \\\n",
       "59730               What is the best Android tablet apps?   \n",
       "217595  What are your choices for the best personal de...   \n",
       "300        How should I start small business effectively?   \n",
       "313015           What are the best headhunters in Mexico?   \n",
       "91635   How many keywords are there in the CFML progra...   \n",
       "\n",
       "                                                question2  is_duplicate  \\\n",
       "59730            What is the best Android tablet browser?             0   \n",
       "217595   What are the best personality development books?             0   \n",
       "300     How should I start a small business in constru...             0   \n",
       "313015            Who are the best headhunters in Mexico?             1   \n",
       "91635   How many keywords are there in ArcView 3.x Pro...             0   \n",
       "\n",
       "        q1_len  q2_len  q1_num_words  q2_num_words  word_common  \n",
       "59730       37      40             7             7            6  \n",
       "217595      62      48            10             7            6  \n",
       "300         46      52             7             9            6  \n",
       "313015      40      39             7             7            6  \n",
       "91635       83      86            14            14           11  "
      ]
     },
     "execution_count": 31,
     "metadata": {},
     "output_type": "execute_result"
    }
   ],
   "source": [
    "new_df['word_common'] = new_df.apply(common_words, axis=1)\n",
    "new_df.sample(5)"
   ]
  },
  {
   "cell_type": "code",
   "execution_count": 33,
   "id": "d2f69738-a44c-4081-b212-bbebd757e7ac",
   "metadata": {},
   "outputs": [],
   "source": [
    "def total_words(row): #pura row pass kiya\n",
    "    w1 = set(map(lambda word: word.lower().strip(), row['question1'].split(\" \"))) #ques1 k sare words\n",
    "    w2 = set(map(lambda word: word.lower().strip(), row['question2'].split(\" \"))) #quest2 k sare words\n",
    "    return (len(w1) + len(w2)) #intersection among the two"
   ]
  },
  {
   "cell_type": "code",
   "execution_count": 35,
   "id": "59fe5819-0dfb-4767-9db9-e578f9b05ced",
   "metadata": {},
   "outputs": [
    {
     "data": {
      "text/html": [
       "<div>\n",
       "<style scoped>\n",
       "    .dataframe tbody tr th:only-of-type {\n",
       "        vertical-align: middle;\n",
       "    }\n",
       "\n",
       "    .dataframe tbody tr th {\n",
       "        vertical-align: top;\n",
       "    }\n",
       "\n",
       "    .dataframe thead th {\n",
       "        text-align: right;\n",
       "    }\n",
       "</style>\n",
       "<table border=\"1\" class=\"dataframe\">\n",
       "  <thead>\n",
       "    <tr style=\"text-align: right;\">\n",
       "      <th></th>\n",
       "      <th>id</th>\n",
       "      <th>qid1</th>\n",
       "      <th>qid2</th>\n",
       "      <th>question1</th>\n",
       "      <th>question2</th>\n",
       "      <th>is_duplicate</th>\n",
       "      <th>q1_len</th>\n",
       "      <th>q2_len</th>\n",
       "      <th>q1_num_words</th>\n",
       "      <th>q2_num_words</th>\n",
       "      <th>word_common</th>\n",
       "      <th>word_total</th>\n",
       "    </tr>\n",
       "  </thead>\n",
       "  <tbody>\n",
       "    <tr>\n",
       "      <th>329127</th>\n",
       "      <td>329127</td>\n",
       "      <td>455758</td>\n",
       "      <td>202280</td>\n",
       "      <td>How can I download the PDF book 'Strength Of M...</td>\n",
       "      <td>Which are the best sites to download pdf books...</td>\n",
       "      <td>0</td>\n",
       "      <td>74</td>\n",
       "      <td>52</td>\n",
       "      <td>13</td>\n",
       "      <td>10</td>\n",
       "      <td>3</td>\n",
       "      <td>23</td>\n",
       "    </tr>\n",
       "    <tr>\n",
       "      <th>361130</th>\n",
       "      <td>361130</td>\n",
       "      <td>490935</td>\n",
       "      <td>154432</td>\n",
       "      <td>What language should I learn before C#?</td>\n",
       "      <td>Which programming language should I learn afte...</td>\n",
       "      <td>0</td>\n",
       "      <td>39</td>\n",
       "      <td>59</td>\n",
       "      <td>7</td>\n",
       "      <td>9</td>\n",
       "      <td>4</td>\n",
       "      <td>16</td>\n",
       "    </tr>\n",
       "    <tr>\n",
       "      <th>96123</th>\n",
       "      <td>96123</td>\n",
       "      <td>160174</td>\n",
       "      <td>160175</td>\n",
       "      <td>What is the land ordinance bill?</td>\n",
       "      <td>What is a land ordinance bill?</td>\n",
       "      <td>1</td>\n",
       "      <td>32</td>\n",
       "      <td>30</td>\n",
       "      <td>6</td>\n",
       "      <td>6</td>\n",
       "      <td>5</td>\n",
       "      <td>12</td>\n",
       "    </tr>\n",
       "    <tr>\n",
       "      <th>9891</th>\n",
       "      <td>9891</td>\n",
       "      <td>19207</td>\n",
       "      <td>19208</td>\n",
       "      <td>How can I become an affiliate marketer?</td>\n",
       "      <td>What is an affiliate marketer? How do you beco...</td>\n",
       "      <td>0</td>\n",
       "      <td>39</td>\n",
       "      <td>53</td>\n",
       "      <td>7</td>\n",
       "      <td>10</td>\n",
       "      <td>5</td>\n",
       "      <td>17</td>\n",
       "    </tr>\n",
       "    <tr>\n",
       "      <th>20542</th>\n",
       "      <td>20542</td>\n",
       "      <td>38750</td>\n",
       "      <td>38751</td>\n",
       "      <td>PHP is good or bad?</td>\n",
       "      <td>Is PHP really bad, even with good frameworks l...</td>\n",
       "      <td>1</td>\n",
       "      <td>19</td>\n",
       "      <td>59</td>\n",
       "      <td>5</td>\n",
       "      <td>10</td>\n",
       "      <td>3</td>\n",
       "      <td>15</td>\n",
       "    </tr>\n",
       "  </tbody>\n",
       "</table>\n",
       "</div>"
      ],
      "text/plain": [
       "            id    qid1    qid2  \\\n",
       "329127  329127  455758  202280   \n",
       "361130  361130  490935  154432   \n",
       "96123    96123  160174  160175   \n",
       "9891      9891   19207   19208   \n",
       "20542    20542   38750   38751   \n",
       "\n",
       "                                                question1  \\\n",
       "329127  How can I download the PDF book 'Strength Of M...   \n",
       "361130            What language should I learn before C#?   \n",
       "96123                    What is the land ordinance bill?   \n",
       "9891              How can I become an affiliate marketer?   \n",
       "20542                                 PHP is good or bad?   \n",
       "\n",
       "                                                question2  is_duplicate  \\\n",
       "329127  Which are the best sites to download pdf books...             0   \n",
       "361130  Which programming language should I learn afte...             0   \n",
       "96123                      What is a land ordinance bill?             1   \n",
       "9891    What is an affiliate marketer? How do you beco...             0   \n",
       "20542   Is PHP really bad, even with good frameworks l...             1   \n",
       "\n",
       "        q1_len  q2_len  q1_num_words  q2_num_words  word_common  word_total  \n",
       "329127      74      52            13            10            3          23  \n",
       "361130      39      59             7             9            4          16  \n",
       "96123       32      30             6             6            5          12  \n",
       "9891        39      53             7            10            5          17  \n",
       "20542       19      59             5            10            3          15  "
      ]
     },
     "execution_count": 35,
     "metadata": {},
     "output_type": "execute_result"
    }
   ],
   "source": [
    "new_df['word_total'] = new_df.apply(total_words, axis=1)\n",
    "new_df.sample(5)"
   ]
  },
  {
   "cell_type": "code",
   "execution_count": 37,
   "id": "2978ad0a-407a-4601-b250-982f5bd3e0d5",
   "metadata": {},
   "outputs": [
    {
     "data": {
      "text/html": [
       "<div>\n",
       "<style scoped>\n",
       "    .dataframe tbody tr th:only-of-type {\n",
       "        vertical-align: middle;\n",
       "    }\n",
       "\n",
       "    .dataframe tbody tr th {\n",
       "        vertical-align: top;\n",
       "    }\n",
       "\n",
       "    .dataframe thead th {\n",
       "        text-align: right;\n",
       "    }\n",
       "</style>\n",
       "<table border=\"1\" class=\"dataframe\">\n",
       "  <thead>\n",
       "    <tr style=\"text-align: right;\">\n",
       "      <th></th>\n",
       "      <th>id</th>\n",
       "      <th>qid1</th>\n",
       "      <th>qid2</th>\n",
       "      <th>question1</th>\n",
       "      <th>question2</th>\n",
       "      <th>is_duplicate</th>\n",
       "      <th>q1_len</th>\n",
       "      <th>q2_len</th>\n",
       "      <th>q1_num_words</th>\n",
       "      <th>q2_num_words</th>\n",
       "      <th>word_common</th>\n",
       "      <th>word_total</th>\n",
       "      <th>word_share</th>\n",
       "    </tr>\n",
       "  </thead>\n",
       "  <tbody>\n",
       "    <tr>\n",
       "      <th>363827</th>\n",
       "      <td>363827</td>\n",
       "      <td>2374</td>\n",
       "      <td>32200</td>\n",
       "      <td>Why do so may people ask questions on Quora th...</td>\n",
       "      <td>Why do so many people ask google-able question...</td>\n",
       "      <td>1</td>\n",
       "      <td>94</td>\n",
       "      <td>57</td>\n",
       "      <td>19</td>\n",
       "      <td>10</td>\n",
       "      <td>7</td>\n",
       "      <td>29</td>\n",
       "      <td>0.24</td>\n",
       "    </tr>\n",
       "    <tr>\n",
       "      <th>257129</th>\n",
       "      <td>257129</td>\n",
       "      <td>372387</td>\n",
       "      <td>33713</td>\n",
       "      <td>What is a better option: Physical education or...</td>\n",
       "      <td>What's the best laptop I can buy as a CS student?</td>\n",
       "      <td>0</td>\n",
       "      <td>91</td>\n",
       "      <td>49</td>\n",
       "      <td>16</td>\n",
       "      <td>11</td>\n",
       "      <td>1</td>\n",
       "      <td>27</td>\n",
       "      <td>0.04</td>\n",
       "    </tr>\n",
       "    <tr>\n",
       "      <th>15954</th>\n",
       "      <td>15954</td>\n",
       "      <td>30441</td>\n",
       "      <td>30442</td>\n",
       "      <td>Sarcasm: What are the best sarcastic replies?</td>\n",
       "      <td>Is it advisable that we write \"sarcasm intende...</td>\n",
       "      <td>0</td>\n",
       "      <td>45</td>\n",
       "      <td>109</td>\n",
       "      <td>7</td>\n",
       "      <td>19</td>\n",
       "      <td>2</td>\n",
       "      <td>26</td>\n",
       "      <td>0.08</td>\n",
       "    </tr>\n",
       "    <tr>\n",
       "      <th>313806</th>\n",
       "      <td>313806</td>\n",
       "      <td>11616</td>\n",
       "      <td>91902</td>\n",
       "      <td>Why do people believe in flat earth?</td>\n",
       "      <td>Why do people say the earth is flat when we ha...</td>\n",
       "      <td>1</td>\n",
       "      <td>36</td>\n",
       "      <td>91</td>\n",
       "      <td>7</td>\n",
       "      <td>19</td>\n",
       "      <td>4</td>\n",
       "      <td>23</td>\n",
       "      <td>0.17</td>\n",
       "    </tr>\n",
       "    <tr>\n",
       "      <th>240058</th>\n",
       "      <td>240058</td>\n",
       "      <td>103102</td>\n",
       "      <td>351807</td>\n",
       "      <td>What piano chords go together?</td>\n",
       "      <td>Which is harder to play in a song on piano: ar...</td>\n",
       "      <td>0</td>\n",
       "      <td>30</td>\n",
       "      <td>62</td>\n",
       "      <td>5</td>\n",
       "      <td>13</td>\n",
       "      <td>0</td>\n",
       "      <td>18</td>\n",
       "      <td>0.00</td>\n",
       "    </tr>\n",
       "  </tbody>\n",
       "</table>\n",
       "</div>"
      ],
      "text/plain": [
       "            id    qid1    qid2  \\\n",
       "363827  363827    2374   32200   \n",
       "257129  257129  372387   33713   \n",
       "15954    15954   30441   30442   \n",
       "313806  313806   11616   91902   \n",
       "240058  240058  103102  351807   \n",
       "\n",
       "                                                question1  \\\n",
       "363827  Why do so may people ask questions on Quora th...   \n",
       "257129  What is a better option: Physical education or...   \n",
       "15954       Sarcasm: What are the best sarcastic replies?   \n",
       "313806               Why do people believe in flat earth?   \n",
       "240058                     What piano chords go together?   \n",
       "\n",
       "                                                question2  is_duplicate  \\\n",
       "363827  Why do so many people ask google-able question...             1   \n",
       "257129  What's the best laptop I can buy as a CS student?             0   \n",
       "15954   Is it advisable that we write \"sarcasm intende...             0   \n",
       "313806  Why do people say the earth is flat when we ha...             1   \n",
       "240058  Which is harder to play in a song on piano: ar...             0   \n",
       "\n",
       "        q1_len  q2_len  q1_num_words  q2_num_words  word_common  word_total  \\\n",
       "363827      94      57            19            10            7          29   \n",
       "257129      91      49            16            11            1          27   \n",
       "15954       45     109             7            19            2          26   \n",
       "313806      36      91             7            19            4          23   \n",
       "240058      30      62             5            13            0          18   \n",
       "\n",
       "        word_share  \n",
       "363827        0.24  \n",
       "257129        0.04  \n",
       "15954         0.08  \n",
       "313806        0.17  \n",
       "240058        0.00  "
      ]
     },
     "execution_count": 37,
     "metadata": {},
     "output_type": "execute_result"
    }
   ],
   "source": [
    "new_df['word_share'] = round(new_df['word_common']/new_df['word_total'],2)\n",
    "new_df.sample(5)"
   ]
  },
  {
   "cell_type": "code",
   "execution_count": 39,
   "id": "8c545ede-7361-477b-9d19-f369379d1515",
   "metadata": {},
   "outputs": [
    {
     "name": "stderr",
     "output_type": "stream",
     "text": [
      "C:\\Users\\Dell\\anaconda3\\Lib\\site-packages\\seaborn\\_oldcore.py:1119: FutureWarning: use_inf_as_na option is deprecated and will be removed in a future version. Convert inf values to NaN before operating instead.\n",
      "  with pd.option_context('mode.use_inf_as_na', True):\n"
     ]
    },
    {
     "name": "stdout",
     "output_type": "stream",
     "text": [
      "minimum characters 2\n",
      "maximum characters 391\n",
      "average number of characters 59\n"
     ]
    },
    {
     "data": {
      "image/png": "[encoded data removed]",
      "text/plain": [
       "<Figure size 500x500 with 1 Axes>"
      ]
     },
     "metadata": {},
     "output_type": "display_data"
    }
   ],
   "source": [
    "#analysis of features\n",
    "sns.displot(new_df['q1_len'],color='red')\n",
    "print('minimum characters',new_df['q1_len'].min())\n",
    "print('maximum characters',new_df['q1_len'].max())\n",
    "print('average number of characters',int(new_df['q1_len'].mean()))"
   ]
  },
  {
   "cell_type": "code",
   "execution_count": 41,
   "id": "0be6741a-96cb-43bf-9673-97006de088de",
   "metadata": {},
   "outputs": [
    {
     "name": "stderr",
     "output_type": "stream",
     "text": [
      "C:\\Users\\Dell\\anaconda3\\Lib\\site-packages\\seaborn\\_oldcore.py:1119: FutureWarning: use_inf_as_na option is deprecated and will be removed in a future version. Convert inf values to NaN before operating instead.\n",
      "  with pd.option_context('mode.use_inf_as_na', True):\n"
     ]
    },
    {
     "name": "stdout",
     "output_type": "stream",
     "text": [
      "minimum characters 6\n",
      "maximum characters 1151\n",
      "average number of characters 60\n"
     ]
    },
    {
     "data": {
      "image/png": "[encoded data removed]",
      "text/plain": [
       "<Figure size 500x500 with 1 Axes>"
      ]
     },
     "metadata": {},
     "output_type": "display_data"
    }
   ],
   "source": [
    "sns.displot(new_df['q2_len'],color='red')\n",
    "print('minimum characters',new_df['q2_len'].min())\n",
    "print('maximum characters',new_df['q2_len'].max())\n",
    "print('average number of characters',int(new_df['q2_len'].mean()))"
   ]
  },
  {
   "cell_type": "code",
   "execution_count": 43,
   "id": "6d744133-a63f-4bd0-ba20-20eae40c657b",
   "metadata": {},
   "outputs": [
    {
     "name": "stderr",
     "output_type": "stream",
     "text": [
      "C:\\Users\\Dell\\anaconda3\\Lib\\site-packages\\seaborn\\_oldcore.py:1119: FutureWarning: use_inf_as_na option is deprecated and will be removed in a future version. Convert inf values to NaN before operating instead.\n",
      "  with pd.option_context('mode.use_inf_as_na', True):\n"
     ]
    },
    {
     "name": "stdout",
     "output_type": "stream",
     "text": [
      "minimum characters 1\n",
      "maximum characters 72\n",
      "average number of characters 10\n"
     ]
    },
    {
     "data": {
      "image/png": "[encoded data removed]",
      "text/plain": [
       "<Figure size 500x500 with 1 Axes>"
      ]
     },
     "metadata": {},
     "output_type": "display_data"
    }
   ],
   "source": [
    "sns.displot(new_df['q1_num_words'],color='red')\n",
    "print('minimum characters',new_df['q1_num_words'].min())\n",
    "print('maximum characters',new_df['q1_num_words'].max())\n",
    "print('average number of characters',int(new_df['q1_num_words'].mean()))"
   ]
  },
  {
   "cell_type": "code",
   "execution_count": 45,
   "id": "96dfaf3d-6db7-4469-8b78-0b8ab0188d71",
   "metadata": {},
   "outputs": [
    {
     "name": "stderr",
     "output_type": "stream",
     "text": [
      "C:\\Users\\Dell\\anaconda3\\Lib\\site-packages\\seaborn\\_oldcore.py:1119: FutureWarning: use_inf_as_na option is deprecated and will be removed in a future version. Convert inf values to NaN before operating instead.\n",
      "  with pd.option_context('mode.use_inf_as_na', True):\n"
     ]
    },
    {
     "name": "stdout",
     "output_type": "stream",
     "text": [
      "minimum characters 1\n",
      "maximum characters 237\n",
      "average number of characters 11\n"
     ]
    },
    {
     "data": {
      "image/png": "[encoded data removed]",
      "text/plain": [
       "<Figure size 500x500 with 1 Axes>"
      ]
     },
     "metadata": {},
     "output_type": "display_data"
    }
   ],
   "source": [
    "sns.displot(new_df['q2_num_words'],color='red')\n",
    "print('minimum characters',new_df['q2_num_words'].min())\n",
    "print('maximum characters',new_df['q2_num_words'].max())\n",
    "print('average number of characters',int(new_df['q2_num_words'].mean()))"
   ]
  },
  {
   "cell_type": "code",
   "execution_count": 46,
   "id": "8eedebb2-82f0-4eeb-8f42-7f52e4d04268",
   "metadata": {},
   "outputs": [
    {
     "name": "stderr",
     "output_type": "stream",
     "text": [
      "C:\\Users\\Dell\\AppData\\Local\\Temp\\ipykernel_6096\\3998256111.py:2: UserWarning: \n",
      "\n",
      "`distplot` is a deprecated function and will be removed in seaborn v0.14.0.\n",
      "\n",
      "Please adapt your code to use either `displot` (a figure-level function with\n",
      "similar flexibility) or `histplot` (an axes-level function for histograms).\n",
      "\n",
      "For a guide to updating your code to use the new functions, please see\n",
      "https://gist.github.com/mwaskom/de44147ed2974457ad6372750bbe5751\n",
      "\n",
      "  sns.distplot(new_df[new_df['is_duplicate']==0]['word_common'],label='non duplicate')\n",
      "C:\\Users\\Dell\\anaconda3\\Lib\\site-packages\\seaborn\\_oldcore.py:1119: FutureWarning: use_inf_as_na option is deprecated and will be removed in a future version. Convert inf values to NaN before operating instead.\n",
      "  with pd.option_context('mode.use_inf_as_na', True):\n",
      "C:\\Users\\Dell\\AppData\\Local\\Temp\\ipykernel_6096\\3998256111.py:3: UserWarning: \n",
      "\n",
      "`distplot` is a deprecated function and will be removed in seaborn v0.14.0.\n",
      "\n",
      "Please adapt your code to use either `displot` (a figure-level function with\n",
      "similar flexibility) or `histplot` (an axes-level function for histograms).\n",
      "\n",
      "For a guide to updating your code to use the new functions, please see\n",
      "https://gist.github.com/mwaskom/de44147ed2974457ad6372750bbe5751\n",
      "\n",
      "  sns.distplot(new_df[new_df['is_duplicate']==1]['word_common'],label='duplicate')\n",
      "C:\\Users\\Dell\\anaconda3\\Lib\\site-packages\\seaborn\\_oldcore.py:1119: FutureWarning: use_inf_as_na option is deprecated and will be removed in a future version. Convert inf values to NaN before operating instead.\n",
      "  with pd.option_context('mode.use_inf_as_na', True):\n"
     ]
    },
    {
     "data": {
      "image/png": "[encoded data removed]",
      "text/plain": [
       "<Figure size 640x480 with 1 Axes>"
      ]
     },
     "metadata": {},
     "output_type": "display_data"
    }
   ],
   "source": [
    "#common words\n",
    "sns.distplot(new_df[new_df['is_duplicate']==0]['word_common'],label='non duplicate')\n",
    "sns.distplot(new_df[new_df['is_duplicate']==1]['word_common'],label='duplicate')\n",
    "plt.legend()\n",
    "plt.show()"
   ]
  },
  {
   "cell_type": "code",
   "execution_count": 49,
   "id": "70957320-ee0a-4244-9a67-669792588fa1",
   "metadata": {},
   "outputs": [
    {
     "name": "stderr",
     "output_type": "stream",
     "text": [
      "C:\\Users\\Dell\\AppData\\Local\\Temp\\ipykernel_6096\\3878293330.py:2: UserWarning: \n",
      "\n",
      "`distplot` is a deprecated function and will be removed in seaborn v0.14.0.\n",
      "\n",
      "Please adapt your code to use either `displot` (a figure-level function with\n",
      "similar flexibility) or `histplot` (an axes-level function for histograms).\n",
      "\n",
      "For a guide to updating your code to use the new functions, please see\n",
      "https://gist.github.com/mwaskom/de44147ed2974457ad6372750bbe5751\n",
      "\n",
      "  sns.distplot(new_df[new_df['is_duplicate']==0]['word_total'],label='non duplicate')\n",
      "C:\\Users\\Dell\\anaconda3\\Lib\\site-packages\\seaborn\\_oldcore.py:1119: FutureWarning: use_inf_as_na option is deprecated and will be removed in a future version. Convert inf values to NaN before operating instead.\n",
      "  with pd.option_context('mode.use_inf_as_na', True):\n",
      "C:\\Users\\Dell\\AppData\\Local\\Temp\\ipykernel_6096\\3878293330.py:3: UserWarning: \n",
      "\n",
      "`distplot` is a deprecated function and will be removed in seaborn v0.14.0.\n",
      "\n",
      "Please adapt your code to use either `displot` (a figure-level function with\n",
      "similar flexibility) or `histplot` (an axes-level function for histograms).\n",
      "\n",
      "For a guide to updating your code to use the new functions, please see\n",
      "https://gist.github.com/mwaskom/de44147ed2974457ad6372750bbe5751\n",
      "\n",
      "  sns.distplot(new_df[new_df['is_duplicate']==1]['word_total'],label='duplicate')\n",
      "C:\\Users\\Dell\\anaconda3\\Lib\\site-packages\\seaborn\\_oldcore.py:1119: FutureWarning: use_inf_as_na option is deprecated and will be removed in a future version. Convert inf values to NaN before operating instead.\n",
      "  with pd.option_context('mode.use_inf_as_na', True):\n"
     ]
    },
    {
     "data": {
      "image/png": "[encoded data removed]",
      "text/plain": [
       "<Figure size 640x480 with 1 Axes>"
      ]
     },
     "metadata": {},
     "output_type": "display_data"
    }
   ],
   "source": [
    "#total words\n",
    "sns.distplot(new_df[new_df['is_duplicate']==0]['word_total'],label='non duplicate')\n",
    "sns.distplot(new_df[new_df['is_duplicate']==1]['word_total'],label='duplicate')\n",
    "plt.legend()\n",
    "plt.show()"
   ]
  },
  {
   "cell_type": "code",
   "execution_count": 51,
   "id": "3bd12d9b-f528-4bc3-babb-055f63ff67a1",
   "metadata": {},
   "outputs": [
    {
     "name": "stderr",
     "output_type": "stream",
     "text": [
      "C:\\Users\\Dell\\AppData\\Local\\Temp\\ipykernel_6096\\3475357463.py:2: UserWarning: \n",
      "\n",
      "`distplot` is a deprecated function and will be removed in seaborn v0.14.0.\n",
      "\n",
      "Please adapt your code to use either `displot` (a figure-level function with\n",
      "similar flexibility) or `histplot` (an axes-level function for histograms).\n",
      "\n",
      "For a guide to updating your code to use the new functions, please see\n",
      "https://gist.github.com/mwaskom/de44147ed2974457ad6372750bbe5751\n",
      "\n",
      "  sns.distplot(new_df[new_df['is_duplicate']==0]['word_share'],label='non duplicate')\n",
      "C:\\Users\\Dell\\anaconda3\\Lib\\site-packages\\seaborn\\_oldcore.py:1119: FutureWarning: use_inf_as_na option is deprecated and will be removed in a future version. Convert inf values to NaN before operating instead.\n",
      "  with pd.option_context('mode.use_inf_as_na', True):\n",
      "C:\\Users\\Dell\\AppData\\Local\\Temp\\ipykernel_6096\\3475357463.py:3: UserWarning: \n",
      "\n",
      "`distplot` is a deprecated function and will be removed in seaborn v0.14.0.\n",
      "\n",
      "Please adapt your code to use either `displot` (a figure-level function with\n",
      "similar flexibility) or `histplot` (an axes-level function for histograms).\n",
      "\n",
      "For a guide to updating your code to use the new functions, please see\n",
      "https://gist.github.com/mwaskom/de44147ed2974457ad6372750bbe5751\n",
      "\n",
      "  sns.distplot(new_df[new_df['is_duplicate']==1]['word_share'],label='duplicate')\n",
      "C:\\Users\\Dell\\anaconda3\\Lib\\site-packages\\seaborn\\_oldcore.py:1119: FutureWarning: use_inf_as_na option is deprecated and will be removed in a future version. Convert inf values to NaN before operating instead.\n",
      "  with pd.option_context('mode.use_inf_as_na', True):\n"
     ]
    },
    {
     "data": {
      "image/png": "[encoded data removed]",
      "text/plain": [
       "<Figure size 640x480 with 1 Axes>"
      ]
     },
     "metadata": {},
     "output_type": "display_data"
    }
   ],
   "source": [
    "#word share\n",
    "sns.distplot(new_df[new_df['is_duplicate']==0]['word_share'],label='non duplicate')\n",
    "sns.distplot(new_df[new_df['is_duplicate']==1]['word_share'],label='duplicate')\n",
    "plt.legend()\n",
    "plt.show()"
   ]
  },
  {
   "cell_type": "code",
   "execution_count": 53,
   "id": "69111925-dd10-4a49-81b5-5b9d38758f98",
   "metadata": {},
   "outputs": [
    {
     "data": {
      "text/html": [
       "<div>\n",
       "<style scoped>\n",
       "    .dataframe tbody tr th:only-of-type {\n",
       "        vertical-align: middle;\n",
       "    }\n",
       "\n",
       "    .dataframe tbody tr th {\n",
       "        vertical-align: top;\n",
       "    }\n",
       "\n",
       "    .dataframe thead th {\n",
       "        text-align: right;\n",
       "    }\n",
       "</style>\n",
       "<table border=\"1\" class=\"dataframe\">\n",
       "  <thead>\n",
       "    <tr style=\"text-align: right;\">\n",
       "      <th></th>\n",
       "      <th>question1</th>\n",
       "      <th>question2</th>\n",
       "    </tr>\n",
       "  </thead>\n",
       "  <tbody>\n",
       "    <tr>\n",
       "      <th>92148</th>\n",
       "      <td>Our farm in Kentucky is being invaded by moles...</td>\n",
       "      <td>What is the best way to get rid of scorpions?</td>\n",
       "    </tr>\n",
       "    <tr>\n",
       "      <th>128244</th>\n",
       "      <td>I am not happy with my life?</td>\n",
       "      <td>What should I do if I am not happy in my life?</td>\n",
       "    </tr>\n",
       "    <tr>\n",
       "      <th>27706</th>\n",
       "      <td>Narendra Modi: How is Mr. Narendra Modi in per...</td>\n",
       "      <td>Arvind Kejriwal: How is Mr. Kejriwal in person...</td>\n",
       "    </tr>\n",
       "    <tr>\n",
       "      <th>80245</th>\n",
       "      <td>If you no longer love your girlfriend or boyfr...</td>\n",
       "      <td>My girlfriend said she doesn't know what she w...</td>\n",
       "    </tr>\n",
       "    <tr>\n",
       "      <th>274219</th>\n",
       "      <td>Email address of Shri Narendra Modi?</td>\n",
       "      <td>What is Shri Narendra Modi's e-mail address?</td>\n",
       "    </tr>\n",
       "  </tbody>\n",
       "</table>\n",
       "</div>"
      ],
      "text/plain": [
       "                                                question1  \\\n",
       "92148   Our farm in Kentucky is being invaded by moles...   \n",
       "128244                       I am not happy with my life?   \n",
       "27706   Narendra Modi: How is Mr. Narendra Modi in per...   \n",
       "80245   If you no longer love your girlfriend or boyfr...   \n",
       "274219               Email address of Shri Narendra Modi?   \n",
       "\n",
       "                                                question2  \n",
       "92148       What is the best way to get rid of scorpions?  \n",
       "128244     What should I do if I am not happy in my life?  \n",
       "27706   Arvind Kejriwal: How is Mr. Kejriwal in person...  \n",
       "80245   My girlfriend said she doesn't know what she w...  \n",
       "274219       What is Shri Narendra Modi's e-mail address?  "
      ]
     },
     "execution_count": 53,
     "metadata": {},
     "output_type": "execute_result"
    }
   ],
   "source": [
    "ques_df = new_df[['question1','question2']]\n",
    "ques_df.sample(5)"
   ]
  },
  {
   "cell_type": "code",
   "execution_count": 55,
   "id": "1fa233c7-a80c-4424-a54b-cc83ce351a01",
   "metadata": {},
   "outputs": [
    {
     "name": "stdout",
     "output_type": "stream",
     "text": [
      "(30000, 8)\n"
     ]
    },
    {
     "data": {
      "text/html": [
       "<div>\n",
       "<style scoped>\n",
       "    .dataframe tbody tr th:only-of-type {\n",
       "        vertical-align: middle;\n",
       "    }\n",
       "\n",
       "    .dataframe tbody tr th {\n",
       "        vertical-align: top;\n",
       "    }\n",
       "\n",
       "    .dataframe thead th {\n",
       "        text-align: right;\n",
       "    }\n",
       "</style>\n",
       "<table border=\"1\" class=\"dataframe\">\n",
       "  <thead>\n",
       "    <tr style=\"text-align: right;\">\n",
       "      <th></th>\n",
       "      <th>is_duplicate</th>\n",
       "      <th>q1_len</th>\n",
       "      <th>q2_len</th>\n",
       "      <th>q1_num_words</th>\n",
       "      <th>q2_num_words</th>\n",
       "      <th>word_common</th>\n",
       "      <th>word_total</th>\n",
       "      <th>word_share</th>\n",
       "    </tr>\n",
       "  </thead>\n",
       "  <tbody>\n",
       "    <tr>\n",
       "      <th>151349</th>\n",
       "      <td>0</td>\n",
       "      <td>63</td>\n",
       "      <td>43</td>\n",
       "      <td>12</td>\n",
       "      <td>9</td>\n",
       "      <td>5</td>\n",
       "      <td>20</td>\n",
       "      <td>0.25</td>\n",
       "    </tr>\n",
       "    <tr>\n",
       "      <th>223045</th>\n",
       "      <td>0</td>\n",
       "      <td>60</td>\n",
       "      <td>69</td>\n",
       "      <td>9</td>\n",
       "      <td>10</td>\n",
       "      <td>4</td>\n",
       "      <td>19</td>\n",
       "      <td>0.21</td>\n",
       "    </tr>\n",
       "    <tr>\n",
       "      <th>315084</th>\n",
       "      <td>0</td>\n",
       "      <td>39</td>\n",
       "      <td>38</td>\n",
       "      <td>8</td>\n",
       "      <td>9</td>\n",
       "      <td>7</td>\n",
       "      <td>17</td>\n",
       "      <td>0.41</td>\n",
       "    </tr>\n",
       "    <tr>\n",
       "      <th>324964</th>\n",
       "      <td>0</td>\n",
       "      <td>17</td>\n",
       "      <td>32</td>\n",
       "      <td>4</td>\n",
       "      <td>6</td>\n",
       "      <td>1</td>\n",
       "      <td>10</td>\n",
       "      <td>0.10</td>\n",
       "    </tr>\n",
       "    <tr>\n",
       "      <th>122698</th>\n",
       "      <td>0</td>\n",
       "      <td>67</td>\n",
       "      <td>38</td>\n",
       "      <td>16</td>\n",
       "      <td>8</td>\n",
       "      <td>4</td>\n",
       "      <td>23</td>\n",
       "      <td>0.17</td>\n",
       "    </tr>\n",
       "  </tbody>\n",
       "</table>\n",
       "</div>"
      ],
      "text/plain": [
       "        is_duplicate  q1_len  q2_len  q1_num_words  q2_num_words  word_common  \\\n",
       "151349             0      63      43            12             9            5   \n",
       "223045             0      60      69             9            10            4   \n",
       "315084             0      39      38             8             9            7   \n",
       "324964             0      17      32             4             6            1   \n",
       "122698             0      67      38            16             8            4   \n",
       "\n",
       "        word_total  word_share  \n",
       "151349          20        0.25  \n",
       "223045          19        0.21  \n",
       "315084          17        0.41  \n",
       "324964          10        0.10  \n",
       "122698          23        0.17  "
      ]
     },
     "execution_count": 55,
     "metadata": {},
     "output_type": "execute_result"
    }
   ],
   "source": [
    "final_df = new_df.drop(columns=['id','qid1','qid2','question1','question2'])\n",
    "print(final_df.shape)\n",
    "final_df.sample(5)"
   ]
  },
  {
   "cell_type": "code",
   "execution_count": 57,
   "id": "dd56c2ea-57d6-4c30-a899-08e4c3a6cd9d",
   "metadata": {},
   "outputs": [],
   "source": [
    "#BOW\n",
    "from sklearn.feature_extraction.text import CountVectorizer\n",
    "#merge text\n",
    "questions = list(ques_df['question1']) + list(ques_df['question2'])\n",
    "\n",
    "cv=CountVectorizer(max_features=3000)\n",
    "q1_arr, q2_arr = np.vsplit(cv.fit_transform(questions).toarray(),2)"
   ]
  },
  {
   "cell_type": "code",
   "execution_count": 58,
   "id": "b12eb70c-a514-49a7-b5c8-9eed30109ec9",
   "metadata": {},
   "outputs": [
    {
     "data": {
      "text/plain": [
       "(30000, 6000)"
      ]
     },
     "execution_count": 58,
     "metadata": {},
     "output_type": "execute_result"
    }
   ],
   "source": [
    "temp_df1 = pd.DataFrame(q1_arr, index= ques_df.index) #into dataframe\n",
    "temp_df2 = pd.DataFrame(q2_arr, index= ques_df.index)\n",
    "temp_df = pd.concat([temp_df1,temp_df2], axis=1) #and concatinate them\n",
    "temp_df.shape # 6000 features since 3000 for question1 and 3000 for question2"
   ]
  },
  {
   "cell_type": "code",
   "execution_count": 61,
   "id": "17234f04-410f-4980-b19a-2adedca33b13",
   "metadata": {},
   "outputs": [
    {
     "name": "stdout",
     "output_type": "stream",
     "text": [
      "(30000, 6008)\n"
     ]
    },
    {
     "data": {
      "text/html": [
       "<div>\n",
       "<style scoped>\n",
       "    .dataframe tbody tr th:only-of-type {\n",
       "        vertical-align: middle;\n",
       "    }\n",
       "\n",
       "    .dataframe tbody tr th {\n",
       "        vertical-align: top;\n",
       "    }\n",
       "\n",
       "    .dataframe thead th {\n",
       "        text-align: right;\n",
       "    }\n",
       "</style>\n",
       "<table border=\"1\" class=\"dataframe\">\n",
       "  <thead>\n",
       "    <tr style=\"text-align: right;\">\n",
       "      <th></th>\n",
       "      <th>is_duplicate</th>\n",
       "      <th>q1_len</th>\n",
       "      <th>q2_len</th>\n",
       "      <th>q1_num_words</th>\n",
       "      <th>q2_num_words</th>\n",
       "      <th>word_common</th>\n",
       "      <th>word_total</th>\n",
       "      <th>word_share</th>\n",
       "      <th>0</th>\n",
       "      <th>1</th>\n",
       "      <th>...</th>\n",
       "      <th>2990</th>\n",
       "      <th>2991</th>\n",
       "      <th>2992</th>\n",
       "      <th>2993</th>\n",
       "      <th>2994</th>\n",
       "      <th>2995</th>\n",
       "      <th>2996</th>\n",
       "      <th>2997</th>\n",
       "      <th>2998</th>\n",
       "      <th>2999</th>\n",
       "    </tr>\n",
       "  </thead>\n",
       "  <tbody>\n",
       "    <tr>\n",
       "      <th>55714</th>\n",
       "      <td>0</td>\n",
       "      <td>56</td>\n",
       "      <td>139</td>\n",
       "      <td>10</td>\n",
       "      <td>24</td>\n",
       "      <td>4</td>\n",
       "      <td>30</td>\n",
       "      <td>0.13</td>\n",
       "      <td>0</td>\n",
       "      <td>0</td>\n",
       "      <td>...</td>\n",
       "      <td>0</td>\n",
       "      <td>0</td>\n",
       "      <td>0</td>\n",
       "      <td>0</td>\n",
       "      <td>0</td>\n",
       "      <td>0</td>\n",
       "      <td>0</td>\n",
       "      <td>0</td>\n",
       "      <td>0</td>\n",
       "      <td>0</td>\n",
       "    </tr>\n",
       "    <tr>\n",
       "      <th>366376</th>\n",
       "      <td>1</td>\n",
       "      <td>70</td>\n",
       "      <td>52</td>\n",
       "      <td>13</td>\n",
       "      <td>9</td>\n",
       "      <td>7</td>\n",
       "      <td>20</td>\n",
       "      <td>0.35</td>\n",
       "      <td>0</td>\n",
       "      <td>0</td>\n",
       "      <td>...</td>\n",
       "      <td>0</td>\n",
       "      <td>0</td>\n",
       "      <td>0</td>\n",
       "      <td>0</td>\n",
       "      <td>0</td>\n",
       "      <td>0</td>\n",
       "      <td>0</td>\n",
       "      <td>0</td>\n",
       "      <td>0</td>\n",
       "      <td>0</td>\n",
       "    </tr>\n",
       "    <tr>\n",
       "      <th>243893</th>\n",
       "      <td>0</td>\n",
       "      <td>49</td>\n",
       "      <td>32</td>\n",
       "      <td>11</td>\n",
       "      <td>7</td>\n",
       "      <td>7</td>\n",
       "      <td>17</td>\n",
       "      <td>0.41</td>\n",
       "      <td>0</td>\n",
       "      <td>0</td>\n",
       "      <td>...</td>\n",
       "      <td>0</td>\n",
       "      <td>0</td>\n",
       "      <td>0</td>\n",
       "      <td>0</td>\n",
       "      <td>0</td>\n",
       "      <td>0</td>\n",
       "      <td>0</td>\n",
       "      <td>0</td>\n",
       "      <td>0</td>\n",
       "      <td>0</td>\n",
       "    </tr>\n",
       "    <tr>\n",
       "      <th>130370</th>\n",
       "      <td>0</td>\n",
       "      <td>97</td>\n",
       "      <td>64</td>\n",
       "      <td>17</td>\n",
       "      <td>14</td>\n",
       "      <td>8</td>\n",
       "      <td>29</td>\n",
       "      <td>0.28</td>\n",
       "      <td>0</td>\n",
       "      <td>0</td>\n",
       "      <td>...</td>\n",
       "      <td>0</td>\n",
       "      <td>0</td>\n",
       "      <td>0</td>\n",
       "      <td>0</td>\n",
       "      <td>0</td>\n",
       "      <td>0</td>\n",
       "      <td>0</td>\n",
       "      <td>0</td>\n",
       "      <td>0</td>\n",
       "      <td>0</td>\n",
       "    </tr>\n",
       "    <tr>\n",
       "      <th>229842</th>\n",
       "      <td>1</td>\n",
       "      <td>42</td>\n",
       "      <td>36</td>\n",
       "      <td>10</td>\n",
       "      <td>9</td>\n",
       "      <td>6</td>\n",
       "      <td>19</td>\n",
       "      <td>0.32</td>\n",
       "      <td>0</td>\n",
       "      <td>0</td>\n",
       "      <td>...</td>\n",
       "      <td>0</td>\n",
       "      <td>0</td>\n",
       "      <td>0</td>\n",
       "      <td>0</td>\n",
       "      <td>0</td>\n",
       "      <td>0</td>\n",
       "      <td>0</td>\n",
       "      <td>0</td>\n",
       "      <td>0</td>\n",
       "      <td>0</td>\n",
       "    </tr>\n",
       "  </tbody>\n",
       "</table>\n",
       "<p>5 rows × 6008 columns</p>\n",
       "</div>"
      ],
      "text/plain": [
       "        is_duplicate  q1_len  q2_len  q1_num_words  q2_num_words  word_common  \\\n",
       "55714              0      56     139            10            24            4   \n",
       "366376             1      70      52            13             9            7   \n",
       "243893             0      49      32            11             7            7   \n",
       "130370             0      97      64            17            14            8   \n",
       "229842             1      42      36            10             9            6   \n",
       "\n",
       "        word_total  word_share  0  1  ...  2990  2991  2992  2993  2994  2995  \\\n",
       "55714           30        0.13  0  0  ...     0     0     0     0     0     0   \n",
       "366376          20        0.35  0  0  ...     0     0     0     0     0     0   \n",
       "243893          17        0.41  0  0  ...     0     0     0     0     0     0   \n",
       "130370          29        0.28  0  0  ...     0     0     0     0     0     0   \n",
       "229842          19        0.32  0  0  ...     0     0     0     0     0     0   \n",
       "\n",
       "        2996  2997  2998  2999  \n",
       "55714      0     0     0     0  \n",
       "366376     0     0     0     0  \n",
       "243893     0     0     0     0  \n",
       "130370     0     0     0     0  \n",
       "229842     0     0     0     0  \n",
       "\n",
       "[5 rows x 6008 columns]"
      ]
     },
     "execution_count": 61,
     "metadata": {},
     "output_type": "execute_result"
    }
   ],
   "source": [
    "final_df = pd.concat([final_df, temp_df],axis=1)\n",
    "print(final_df.shape)\n",
    "final_df.sample(5)"
   ]
  },
  {
   "cell_type": "code",
   "execution_count": 63,
   "id": "c7888a98-be27-43a5-bc42-30b76fd332a9",
   "metadata": {},
   "outputs": [],
   "source": [
    "from sklearn.model_selection import train_test_split\n",
    "X_train, X_test, y_train, y_test = train_test_split(final_df.iloc[:,1:].values, final_df.iloc[:,0].values, test_size=0.2, random_state=42)"
   ]
  },
  {
   "cell_type": "code",
   "execution_count": 64,
   "id": "aafce7c2-7c28-41d7-b689-2ebfddd46ec2",
   "metadata": {},
   "outputs": [
    {
     "data": {
      "text/plain": [
       "0.7661666666666667"
      ]
     },
     "execution_count": 64,
     "metadata": {},
     "output_type": "execute_result"
    }
   ],
   "source": [
    "from sklearn.ensemble import RandomForestClassifier\n",
    "from sklearn.metrics import accuracy_score\n",
    "rf = RandomForestClassifier()\n",
    "rf.fit(X_train, y_train)\n",
    "y_pred = rf.predict(X_test)\n",
    "accuracy_score(y_test, y_pred)"
   ]
  },
  {
   "cell_type": "code",
   "execution_count": 65,
   "id": "61fc19a7-02d2-4f72-9ab6-ad31400079d0",
   "metadata": {},
   "outputs": [
    {
     "name": "stdout",
     "output_type": "stream",
     "text": [
      "Accuracy: 0.764\n"
     ]
    }
   ],
   "source": [
    "from xgboost import XGBClassifier\n",
    "from sklearn.metrics import accuracy_score\n",
    "xgb = XGBClassifier()\n",
    "xgb.fit(X_train, y_train)\n",
    "y_pred = xgb.predict(X_test)\n",
    "accuracy = accuracy_score(y_test, y_pred)\n",
    "print(\"Accuracy:\", accuracy)\n"
   ]
  }
 ],
 "metadata": {
  "kernelspec": {
   "display_name": "Python 3 (ipykernel)",
   "language": "python",
   "name": "python3"
  },
  "language_info": {
   "codemirror_mode": {
    "name": "ipython",
    "version": 3
   },
   "file_extension": ".py",
   "mimetype": "text/x-python",
   "name": "python",
   "nbconvert_exporter": "python",
   "pygments_lexer": "ipython3",
   "version": "3.11.7"
  }
 },
 "nbformat": 4,
 "nbformat_minor": 5
}
