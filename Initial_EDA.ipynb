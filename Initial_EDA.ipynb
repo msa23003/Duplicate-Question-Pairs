{
 "cells": [
  {
   "cell_type": "code",
   "execution_count": 1,
   "id": "4da803e6-6eac-43ba-a3b8-65db06f29610",
   "metadata": {},
   "outputs": [],
   "source": [
    "import numpy as np\n",
    "import pandas as pd\n",
    "import seaborn as sns\n",
    "import matplotlib.pyplot as plt"
   ]
  },
  {
   "cell_type": "code",
   "execution_count": 3,
   "id": "b3c5426a-75a8-4673-b199-f6ed06b60cff",
   "metadata": {},
   "outputs": [],
   "source": [
    "df = pd.read_csv('train.csv')"
   ]
  },
  {
   "cell_type": "code",
   "execution_count": 4,
   "id": "e900ad0e-8f28-497d-b2be-8b0e0ffa3821",
   "metadata": {},
   "outputs": [
    {
     "data": {
      "text/plain": [
       "(404290, 6)"
      ]
     },
     "execution_count": 4,
     "metadata": {},
     "output_type": "execute_result"
    }
   ],
   "source": [
    "df.shape"
   ]
  },
  {
   "cell_type": "code",
   "execution_count": 5,
   "id": "37639b2c-c18f-4203-bb9b-2800f5c67df4",
   "metadata": {},
   "outputs": [
    {
     "data": {
      "text/html": [
       "<div>\n",
       "<style scoped>\n",
       "    .dataframe tbody tr th:only-of-type {\n",
       "        vertical-align: middle;\n",
       "    }\n",
       "\n",
       "    .dataframe tbody tr th {\n",
       "        vertical-align: top;\n",
       "    }\n",
       "\n",
       "    .dataframe thead th {\n",
       "        text-align: right;\n",
       "    }\n",
       "</style>\n",
       "<table border=\"1\" class=\"dataframe\">\n",
       "  <thead>\n",
       "    <tr style=\"text-align: right;\">\n",
       "      <th></th>\n",
       "      <th>id</th>\n",
       "      <th>qid1</th>\n",
       "      <th>qid2</th>\n",
       "      <th>question1</th>\n",
       "      <th>question2</th>\n",
       "      <th>is_duplicate</th>\n",
       "    </tr>\n",
       "  </thead>\n",
       "  <tbody>\n",
       "    <tr>\n",
       "      <th>341810</th>\n",
       "      <td>341810</td>\n",
       "      <td>67150</td>\n",
       "      <td>128050</td>\n",
       "      <td>Why do Kashmir people want to join Pakistan? (...</td>\n",
       "      <td>Why do Kashmir people want to join Pakistan? (...</td>\n",
       "      <td>1</td>\n",
       "    </tr>\n",
       "    <tr>\n",
       "      <th>327358</th>\n",
       "      <td>327358</td>\n",
       "      <td>453779</td>\n",
       "      <td>405065</td>\n",
       "      <td>What is the smallest and most versatile drone ...</td>\n",
       "      <td>What is the smallest spying drone currently?</td>\n",
       "      <td>1</td>\n",
       "    </tr>\n",
       "    <tr>\n",
       "      <th>207015</th>\n",
       "      <td>207015</td>\n",
       "      <td>310586</td>\n",
       "      <td>310587</td>\n",
       "      <td>Will Samsung J7 2016 get the Android 7.0 update?</td>\n",
       "      <td>Can Samsung Galaxy Note 3 N900 updated to Andr...</td>\n",
       "      <td>0</td>\n",
       "    </tr>\n",
       "    <tr>\n",
       "      <th>343609</th>\n",
       "      <td>343609</td>\n",
       "      <td>262685</td>\n",
       "      <td>471760</td>\n",
       "      <td>How do you know when someone takes a screensho...</td>\n",
       "      <td>How do I know if someone has blocked me on Ins...</td>\n",
       "      <td>0</td>\n",
       "    </tr>\n",
       "    <tr>\n",
       "      <th>2238</th>\n",
       "      <td>2238</td>\n",
       "      <td>4452</td>\n",
       "      <td>4453</td>\n",
       "      <td>My ex girlfriend just gave birth to a child wi...</td>\n",
       "      <td>How can I get Clash Of Clans Gem or Gold for f...</td>\n",
       "      <td>0</td>\n",
       "    </tr>\n",
       "  </tbody>\n",
       "</table>\n",
       "</div>"
      ],
      "text/plain": [
       "            id    qid1    qid2  \\\n",
       "341810  341810   67150  128050   \n",
       "327358  327358  453779  405065   \n",
       "207015  207015  310586  310587   \n",
       "343609  343609  262685  471760   \n",
       "2238      2238    4452    4453   \n",
       "\n",
       "                                                question1  \\\n",
       "341810  Why do Kashmir people want to join Pakistan? (...   \n",
       "327358  What is the smallest and most versatile drone ...   \n",
       "207015   Will Samsung J7 2016 get the Android 7.0 update?   \n",
       "343609  How do you know when someone takes a screensho...   \n",
       "2238    My ex girlfriend just gave birth to a child wi...   \n",
       "\n",
       "                                                question2  is_duplicate  \n",
       "341810  Why do Kashmir people want to join Pakistan? (...             1  \n",
       "327358       What is the smallest spying drone currently?             1  \n",
       "207015  Can Samsung Galaxy Note 3 N900 updated to Andr...             0  \n",
       "343609  How do I know if someone has blocked me on Ins...             0  \n",
       "2238    How can I get Clash Of Clans Gem or Gold for f...             0  "
      ]
     },
     "execution_count": 5,
     "metadata": {},
     "output_type": "execute_result"
    }
   ],
   "source": [
    "df.sample(5) #binary classification"
   ]
  },
  {
   "cell_type": "code",
   "execution_count": 6,
   "id": "64f9b36f-7831-4f5a-97f0-ab25f41653e5",
   "metadata": {},
   "outputs": [
    {
     "name": "stdout",
     "output_type": "stream",
     "text": [
      "<class 'pandas.core.frame.DataFrame'>\n",
      "RangeIndex: 404290 entries, 0 to 404289\n",
      "Data columns (total 6 columns):\n",
      " #   Column        Non-Null Count   Dtype \n",
      "---  ------        --------------   ----- \n",
      " 0   id            404290 non-null  int64 \n",
      " 1   qid1          404290 non-null  int64 \n",
      " 2   qid2          404290 non-null  int64 \n",
      " 3   question1     404289 non-null  object\n",
      " 4   question2     404288 non-null  object\n",
      " 5   is_duplicate  404290 non-null  int64 \n",
      "dtypes: int64(4), object(2)\n",
      "memory usage: 18.5+ MB\n"
     ]
    }
   ],
   "source": [
    "df.info()"
   ]
  },
  {
   "cell_type": "code",
   "execution_count": 7,
   "id": "9a139bc6-e225-4594-bb17-500f1094ad3e",
   "metadata": {},
   "outputs": [
    {
     "data": {
      "text/plain": [
       "id              0\n",
       "qid1            0\n",
       "qid2            0\n",
       "question1       1\n",
       "question2       2\n",
       "is_duplicate    0\n",
       "dtype: int64"
      ]
     },
     "execution_count": 7,
     "metadata": {},
     "output_type": "execute_result"
    }
   ],
   "source": [
    "#missing values\n",
    "df.isnull().sum()"
   ]
  },
  {
   "cell_type": "code",
   "execution_count": 8,
   "id": "c827abdd-a912-4102-b965-31d96bc8a841",
   "metadata": {},
   "outputs": [
    {
     "data": {
      "text/plain": [
       "0"
      ]
     },
     "execution_count": 8,
     "metadata": {},
     "output_type": "execute_result"
    }
   ],
   "source": [
    "#duplicate rows\n",
    "df.duplicated().sum()"
   ]
  },
  {
   "cell_type": "code",
   "execution_count": 21,
   "id": "d4f65a99-ab54-4557-ad6f-38d896fb7757",
   "metadata": {},
   "outputs": [
    {
     "name": "stdout",
     "output_type": "stream",
     "text": [
      "is_duplicate\n",
      "0    255027\n",
      "1    149263\n",
      "Name: count, dtype: int64\n",
      "is_duplicate\n",
      "0    63.080215\n",
      "1    36.919785\n",
      "Name: count, dtype: float64\n"
     ]
    },
    {
     "data": {
      "text/plain": [
       "<Axes: xlabel='is_duplicate'>"
      ]
     },
     "execution_count": 21,
     "metadata": {},
     "output_type": "execute_result"
    },
    {
     "data": {
      "image/png": "[encoded data removed]",
      "text/plain": [
       "<Figure size 640x480 with 1 Axes>"
      ]
     },
     "metadata": {},
     "output_type": "display_data"
    }
   ],
   "source": [
    "# Distribution of duplicate and non-duplicate questions\n",
    "\n",
    "print(df['is_duplicate'].value_counts())\n",
    "print((df['is_duplicate'].value_counts()/df['is_duplicate'].count())*100) #in percentage value\n",
    "df['is_duplicate'].value_counts().plot(kind='bar',color='red')"
   ]
  },
  {
   "cell_type": "code",
   "execution_count": 19,
   "id": "0f86637b-6649-49d4-86dd-afc2b8a5f05d",
   "metadata": {},
   "outputs": [
    {
     "name": "stdout",
     "output_type": "stream",
     "text": [
      "Number of unique questions in the dataset: 537933\n",
      "Number of questions that are being repeated in the dataset: 111780\n"
     ]
    }
   ],
   "source": [
    "#repeated questions\n",
    "qid= pd.Series(df['qid1'].tolist() + df['qid2'].tolist())\n",
    "print('Number of unique questions in the dataset:',np.unique(qid).shape[0])\n",
    "x=qid.value_counts()>1\n",
    "print('Number of questions that are being repeated in the dataset:',x[x].shape[0])"
   ]
  },
  {
   "cell_type": "code",
   "execution_count": 22,
   "id": "3c963c1a-2201-4893-ba54-9fd79b8ba970",
   "metadata": {},
   "outputs": [
    {
     "data": {
      "image/png": "[encoded data removed]",
      "text/plain": [
       "<Figure size 640x480 with 1 Axes>"
      ]
     },
     "metadata": {},
     "output_type": "display_data"
    }
   ],
   "source": [
    "#plot(histogram) of repeated questions\n",
    "plt.hist(qid.value_counts().values,bins=160, color='red')\n",
    "plt.yscale('log')\n",
    "plt.show()"
   ]
  },
  {
   "cell_type": "markdown",
   "id": "5703adfb-c7a6-495b-818a-0cf9c5e29dee",
   "metadata": {},
   "source": [
    "qid1 and qid2 :bow\n",
    "is_duplicate :ml algo(for prediction 'y')"
   ]
  },
  {
   "cell_type": "code",
   "execution_count": null,
   "id": "e23218d0-8808-4a94-9ee5-c2ec3d048438",
   "metadata": {},
   "outputs": [],
   "source": []
  }
 ],
 "metadata": {
  "kernelspec": {
   "display_name": "Python 3 (ipykernel)",
   "language": "python",
   "name": "python3"
  },
  "language_info": {
   "codemirror_mode": {
    "name": "ipython",
    "version": 3
   },
   "file_extension": ".py",
   "mimetype": "text/x-python",
   "name": "python",
   "nbconvert_exporter": "python",
   "pygments_lexer": "ipython3",
   "version": "3.11.7"
  }
 },
 "nbformat": 4,
 "nbformat_minor": 5
}
